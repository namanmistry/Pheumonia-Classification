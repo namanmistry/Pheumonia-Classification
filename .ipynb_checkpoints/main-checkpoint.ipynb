{
 "cells": [
  {
   "cell_type": "code",
   "execution_count": 2,
   "id": "1801ec69-d035-4320-a116-542cfab0b3f5",
   "metadata": {},
   "outputs": [],
   "source": [
    "import numpy as np\n",
    "import os\n",
    "import cv2\n",
    "import pickle"
   ]
  },
  {
   "cell_type": "code",
   "execution_count": 2,
   "id": "436e7815-11fe-4174-9834-fa8b79ba5dfe",
   "metadata": {},
   "outputs": [],
   "source": [
    "data = []\n",
    "\n",
    "for file in os.listdir(\"./data/train/NORMAL\"):\n",
    "    try:\n",
    "        img = cv2.imread(f\"./data/train/NORMAL/{file}\")\n",
    "        img = cv2.resize(img,(100,100))\n",
    "        img_array = np.array(img).flatten()\n",
    "        data.append([img_array,0])\n",
    "\n",
    "    except Exception as e:\n",
    "        pass\n",
    "\n",
    "for file in os.listdir(\"./data/train/PNEUMONIA\"):\n",
    "    try:\n",
    "        img = cv2.imread(f\"./data/train/PNEUMONIA/{file}\")\n",
    "        img = cv2.resize(img,(100,100))\n",
    "        img_array = np.array(img).flatten()\n",
    "        data.append([img_array,1])\n",
    "        \n",
    "    except Exception as e:\n",
    "        pass\n",
    "\n",
    "pickle_open = open(\"data.pkl\",\"wb\")\n",
    "pickle.dump(data,pickle_open)\n",
    "pickle_open.close()"
   ]
  },
  {
   "cell_type": "code",
   "execution_count": 36,
   "id": "1214c728-65cd-41d5-8c55-cd8340c06350",
   "metadata": {},
   "outputs": [
    {
     "name": "stdout",
     "output_type": "stream",
     "text": [
      "5216\n"
     ]
    }
   ],
   "source": [
    "pickle_open = open(\"data.pkl\",\"rb\")\n",
    "data = pickle.load(pickle_open)\n",
    "pickle_open.close()\n",
    "\n",
    "print(len(data))"
   ]
  },
  {
   "cell_type": "code",
   "execution_count": 37,
   "id": "6ec950c6-8641-4cfa-a3ab-867290a11329",
   "metadata": {},
   "outputs": [],
   "source": [
    "import random\n",
    "from sklearn.multiclass import OneVsRestClassifier"
   ]
  },
  {
   "cell_type": "code",
   "execution_count": 38,
   "id": "9fc4d94b-dd06-4fe6-9ba6-c724f9b09fea",
   "metadata": {},
   "outputs": [],
   "source": [
    "random.shuffle(data)"
   ]
  },
  {
   "cell_type": "code",
   "execution_count": 39,
   "id": "a428cd53-4dfb-4557-9553-1ef8b01cd3d4",
   "metadata": {},
   "outputs": [
    {
     "name": "stdout",
     "output_type": "stream",
     "text": [
      "[array([0, 0, 0, ..., 1, 1, 1], dtype=uint8), 1]\n"
     ]
    }
   ],
   "source": [
    "print(data[0])"
   ]
  },
  {
   "cell_type": "code",
   "execution_count": 40,
   "id": "63cbb2d0-a754-44ec-9b27-d246e1e3ffa7",
   "metadata": {},
   "outputs": [],
   "source": [
    "from sklearn.svm import SVC\n",
    "from sklearn.ensemble import RandomForestClassifier"
   ]
  },
  {
   "cell_type": "code",
   "execution_count": 41,
   "id": "11d3097e-d813-4b45-80b3-d2d2b0148854",
   "metadata": {},
   "outputs": [],
   "source": [
    "model = RandomForestClassifier()"
   ]
  },
  {
   "cell_type": "code",
   "execution_count": 43,
   "id": "8a87c95d-848a-48f9-92f0-7ccf535e5673",
   "metadata": {},
   "outputs": [],
   "source": [
    "features = []\n",
    "labels = []\n",
    "\n",
    "for feature, label in data:\n",
    "    features.append(feature)\n",
    "    labels.append(label)\n",
    "    \n",
    "    "
   ]
  },
  {
   "cell_type": "code",
   "execution_count": 44,
   "id": "cf850038-1251-40fb-8ab1-bfad1bfc9e3d",
   "metadata": {},
   "outputs": [
    {
     "name": "stdout",
     "output_type": "stream",
     "text": [
      "5216\n",
      "5216\n"
     ]
    }
   ],
   "source": [
    "print(len(features))\n",
    "print(len(labels))"
   ]
  },
  {
   "cell_type": "code",
   "execution_count": 45,
   "id": "4e7cb319-5d19-4b60-9b75-ae5535c29e14",
   "metadata": {},
   "outputs": [
    {
     "data": {
      "text/plain": [
       "['./model/Model.joblib']"
      ]
     },
     "execution_count": 45,
     "metadata": {},
     "output_type": "execute_result"
    }
   ],
   "source": [
    "from joblib import load, dump\n",
    "model.fit(features, labels)\n",
    "dump(model, \"./model/Model.joblib\")"
   ]
  },
  {
   "cell_type": "code",
   "execution_count": 46,
   "id": "e5b3670a-f1d6-49d6-be4c-2d1859deb726",
   "metadata": {},
   "outputs": [],
   "source": [
    "model =load(\"./model/Model.joblib\")"
   ]
  },
  {
   "cell_type": "code",
   "execution_count": 47,
   "id": "48231e0c-6bc8-4aa8-ba7e-e63dfbd3bd78",
   "metadata": {},
   "outputs": [
    {
     "name": "stdout",
     "output_type": "stream",
     "text": [
      "624\n"
     ]
    }
   ],
   "source": [
    "test_data = []\n",
    "\n",
    "for file in os.listdir(\"./data/test/NORMAL\"):\n",
    "    try:\n",
    "        img = cv2.imread(f\"./data/test/NORMAL/{file}\")\n",
    "        img = cv2.resize(img,(100,100))\n",
    "        img_array = np.array(img).flatten()\n",
    "        test_data.append([img_array,0])\n",
    "\n",
    "    except Exception as e:\n",
    "        pass\n",
    "\n",
    "for file in os.listdir(\"./data/test/PNEUMONIA\"):\n",
    "    try:\n",
    "        img = cv2.imread(f\"./data/test/PNEUMONIA/{file}\")\n",
    "        img = cv2.resize(img,(100,100))\n",
    "        img_array = np.array(img).flatten()\n",
    "        test_data.append([img_array,1])\n",
    "        \n",
    "    except Exception as e:\n",
    "        pass\n",
    "\n",
    "print(len(test_data))"
   ]
  },
  {
   "cell_type": "code",
   "execution_count": 48,
   "id": "cf0d0d7f-7634-4483-b1ae-b7fc01c6353c",
   "metadata": {},
   "outputs": [
    {
     "name": "stdout",
     "output_type": "stream",
     "text": [
      "624\n"
     ]
    }
   ],
   "source": [
    "features_test = []\n",
    "labels_test = []\n",
    "\n",
    "for feature, label in test_data:\n",
    "    features_test.append(feature)\n",
    "    labels_test.append(label)\n",
    "    \n",
    "print(len(features_test))"
   ]
  },
  {
   "cell_type": "code",
   "execution_count": 50,
   "id": "cd2deea6-642c-4d78-8a8f-2aa7566b1472",
   "metadata": {},
   "outputs": [
    {
     "name": "stdout",
     "output_type": "stream",
     "text": [
      "0.7660256410256411\n"
     ]
    }
   ],
   "source": [
    "print(model.score(features_test,labels_test))"
   ]
  },
  {
   "cell_type": "code",
   "execution_count": 55,
   "id": "0939a882-9038-4357-910d-45e14dcb4a6f",
   "metadata": {},
   "outputs": [
    {
     "name": "stdout",
     "output_type": "stream",
     "text": [
      "[0]\n"
     ]
    }
   ],
   "source": [
    " try:\n",
    "    img = cv2.imread(f\"./data/test/NORMAL/IM-0037-0001.jpeg\")\n",
    "    img = cv2.resize(img,(100,100))\n",
    "    img_array = np.array(img).flatten()\n",
    "      \n",
    "except Exception as e:\n",
    "    pass\n",
    "\n",
    "print(model.predict([img_array]))"
   ]
  },
  {
   "cell_type": "code",
   "execution_count": null,
   "id": "500a12ea-ab18-41fd-9909-1d690e8854c3",
   "metadata": {},
   "outputs": [],
   "source": []
  }
 ],
 "metadata": {
  "kernelspec": {
   "display_name": "Python 3",
   "language": "python",
   "name": "python3"
  },
  "language_info": {
   "codemirror_mode": {
    "name": "ipython",
    "version": 3
   },
   "file_extension": ".py",
   "mimetype": "text/x-python",
   "name": "python",
   "nbconvert_exporter": "python",
   "pygments_lexer": "ipython3",
   "version": "3.8.7"
  }
 },
 "nbformat": 4,
 "nbformat_minor": 5
}
